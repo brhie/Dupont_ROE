{
 "cells": [
  {
   "cell_type": "markdown",
   "metadata": {},
   "source": [
    "# Applying ROE analysis to companies\n",
    "## using conda packages and yahoo finance"
   ]
  },
  {
   "cell_type": "code",
   "execution_count": 1,
   "metadata": {},
   "outputs": [],
   "source": [
    "# Date\n",
    "from datetime import date\n",
    "\n",
    "#Data Manipulation\n",
    "import pandas as pd\n",
    "import numpy as np\n",
    "from pandas import DataFrame\n",
    "\n",
    "# Visualization\n",
    "import matplotlib.pyplot as plt\n",
    "import matplotlib as mpl\n",
    "import os\n",
    "\n",
    "# API\n",
    "import yfinance as yf\n",
    "import yahoo_fin.stock_info as si"
   ]
  },
  {
   "cell_type": "markdown",
   "metadata": {},
   "source": [
    "### Set the variable to a company that you wish to analyze"
   ]
  },
  {
   "cell_type": "code",
   "execution_count": 2,
   "metadata": {},
   "outputs": [],
   "source": [
    "company = \"GOOG\""
   ]
  },
  {
   "cell_type": "markdown",
   "metadata": {},
   "source": [
    "### Get basic stats before roe analysis"
   ]
  },
  {
   "cell_type": "code",
   "execution_count": 3,
   "metadata": {},
   "outputs": [
    {
     "data": {
      "text/html": [
       "<div>\n",
       "<style scoped>\n",
       "    .dataframe tbody tr th:only-of-type {\n",
       "        vertical-align: middle;\n",
       "    }\n",
       "\n",
       "    .dataframe tbody tr th {\n",
       "        vertical-align: top;\n",
       "    }\n",
       "\n",
       "    .dataframe thead th {\n",
       "        text-align: right;\n",
       "    }\n",
       "</style>\n",
       "<table border=\"1\" class=\"dataframe\">\n",
       "  <thead>\n",
       "    <tr style=\"text-align: right;\">\n",
       "      <th></th>\n",
       "      <th>0</th>\n",
       "      <th>1</th>\n",
       "    </tr>\n",
       "  </thead>\n",
       "  <tbody>\n",
       "    <tr>\n",
       "      <th>0</th>\n",
       "      <td>Market Cap (intraday) 5</td>\n",
       "      <td>1.61T</td>\n",
       "    </tr>\n",
       "    <tr>\n",
       "      <th>1</th>\n",
       "      <td>Enterprise Value 3</td>\n",
       "      <td>1.52T</td>\n",
       "    </tr>\n",
       "    <tr>\n",
       "      <th>2</th>\n",
       "      <td>Trailing P/E</td>\n",
       "      <td>32.44</td>\n",
       "    </tr>\n",
       "    <tr>\n",
       "      <th>3</th>\n",
       "      <td>Forward P/E 1</td>\n",
       "      <td>25.72</td>\n",
       "    </tr>\n",
       "    <tr>\n",
       "      <th>4</th>\n",
       "      <td>PEG Ratio (5 yr expected) 1</td>\n",
       "      <td>1.27</td>\n",
       "    </tr>\n",
       "    <tr>\n",
       "      <th>5</th>\n",
       "      <td>Price/Sales (ttm)</td>\n",
       "      <td>8.20</td>\n",
       "    </tr>\n",
       "    <tr>\n",
       "      <th>6</th>\n",
       "      <td>Price/Book (mrq)</td>\n",
       "      <td>7.10</td>\n",
       "    </tr>\n",
       "    <tr>\n",
       "      <th>7</th>\n",
       "      <td>Enterprise Value/Revenue 3</td>\n",
       "      <td>7.75</td>\n",
       "    </tr>\n",
       "    <tr>\n",
       "      <th>8</th>\n",
       "      <td>Enterprise Value/EBITDA 7</td>\n",
       "      <td>24.19</td>\n",
       "    </tr>\n",
       "  </tbody>\n",
       "</table>\n",
       "</div>"
      ],
      "text/plain": [
       "                             0      1\n",
       "0      Market Cap (intraday) 5  1.61T\n",
       "1           Enterprise Value 3  1.52T\n",
       "2                 Trailing P/E  32.44\n",
       "3                Forward P/E 1  25.72\n",
       "4  PEG Ratio (5 yr expected) 1   1.27\n",
       "5            Price/Sales (ttm)   8.20\n",
       "6             Price/Book (mrq)   7.10\n",
       "7   Enterprise Value/Revenue 3   7.75\n",
       "8    Enterprise Value/EBITDA 7  24.19"
      ]
     },
     "execution_count": 3,
     "metadata": {},
     "output_type": "execute_result"
    }
   ],
   "source": [
    "valuation = si.get_stats_valuation(company).iloc[:,:2]\n",
    "valuation"
   ]
  },
  {
   "cell_type": "markdown",
   "metadata": {},
   "source": [
    "### Get all three kinds of financial statements"
   ]
  },
  {
   "cell_type": "code",
   "execution_count": 4,
   "metadata": {},
   "outputs": [
    {
     "name": "stdout",
     "output_type": "stream",
     "text": [
      "<class 'pandas.core.frame.DataFrame'>\n",
      "DatetimeIndex: 4 entries, 2020-12-31 to 2017-12-31\n",
      "Data columns (total 17 columns):\n",
      " #   Column                                 Non-Null Count  Dtype\n",
      "---  ------                                 --------------  -----\n",
      " 0   investments                            4 non-null      int64\n",
      " 1   changeToLiabilities                    4 non-null      int64\n",
      " 2   totalCashflowsFromInvestingActivities  4 non-null      int64\n",
      " 3   netBorrowings                          4 non-null      int64\n",
      " 4   totalCashFromFinancingActivities       4 non-null      int64\n",
      " 5   changeToOperatingActivities            4 non-null      int64\n",
      " 6   netIncome                              4 non-null      int64\n",
      " 7   changeInCash                           4 non-null      int64\n",
      " 8   repurchaseOfStock                      4 non-null      int64\n",
      " 9   effectOfExchangeRate                   4 non-null      int64\n",
      " 10  totalCashFromOperatingActivities       4 non-null      int64\n",
      " 11  depreciation                           4 non-null      int64\n",
      " 12  otherCashflowsFromInvestingActivities  4 non-null      int64\n",
      " 13  changeToAccountReceivables             4 non-null      int64\n",
      " 14  otherCashflowsFromFinancingActivities  4 non-null      int64\n",
      " 15  changeToNetincome                      4 non-null      int64\n",
      " 16  capitalExpenditures                    4 non-null      int64\n",
      "dtypes: int64(17)\n",
      "memory usage: 576.0 bytes\n",
      "None\n",
      "<class 'pandas.core.frame.DataFrame'>\n",
      "DatetimeIndex: 4 entries, 2020-12-31 to 2017-12-31\n",
      "Data columns (total 26 columns):\n",
      " #   Column                        Non-Null Count  Dtype  \n",
      "---  ------                        --------------  -----  \n",
      " 0   intangibleAssets              4 non-null      float64\n",
      " 1   totalLiab                     4 non-null      float64\n",
      " 2   totalStockholderEquity        4 non-null      float64\n",
      " 3   otherCurrentLiab              4 non-null      float64\n",
      " 4   totalAssets                   4 non-null      float64\n",
      " 5   commonStock                   4 non-null      float64\n",
      " 6   otherCurrentAssets            4 non-null      float64\n",
      " 7   retainedEarnings              4 non-null      float64\n",
      " 8   otherLiab                     4 non-null      float64\n",
      " 9   goodWill                      4 non-null      float64\n",
      " 10  treasuryStock                 4 non-null      float64\n",
      " 11  otherAssets                   4 non-null      float64\n",
      " 12  cash                          4 non-null      float64\n",
      " 13  totalCurrentLiabilities       4 non-null      float64\n",
      " 14  deferredLongTermAssetCharges  4 non-null      float64\n",
      " 15  shortLongTermDebt             1 non-null      float64\n",
      " 16  otherStockholderEquity        4 non-null      float64\n",
      " 17  propertyPlantEquipment        4 non-null      float64\n",
      " 18  totalCurrentAssets            4 non-null      float64\n",
      " 19  longTermInvestments           4 non-null      float64\n",
      " 20  netTangibleAssets             4 non-null      float64\n",
      " 21  shortTermInvestments          4 non-null      float64\n",
      " 22  netReceivables                4 non-null      float64\n",
      " 23  longTermDebt                  4 non-null      float64\n",
      " 24  inventory                     4 non-null      float64\n",
      " 25  accountsPayable               4 non-null      float64\n",
      "dtypes: float64(26)\n",
      "memory usage: 864.0 bytes\n",
      "None\n",
      "<class 'pandas.core.frame.DataFrame'>\n",
      "DatetimeIndex: 4 entries, 2020-12-31 to 2017-12-31\n",
      "Data columns (total 22 columns):\n",
      " #   Column                             Non-Null Count  Dtype \n",
      "---  ------                             --------------  ----- \n",
      " 0   researchDevelopment                4 non-null      object\n",
      " 1   effectOfAccountingCharges          0 non-null      object\n",
      " 2   incomeBeforeTax                    4 non-null      object\n",
      " 3   minorityInterest                   0 non-null      object\n",
      " 4   netIncome                          4 non-null      object\n",
      " 5   sellingGeneralAdministrative       4 non-null      object\n",
      " 6   grossProfit                        4 non-null      object\n",
      " 7   ebit                               4 non-null      object\n",
      " 8   operatingIncome                    4 non-null      object\n",
      " 9   otherOperatingExpenses             0 non-null      object\n",
      " 10  interestExpense                    4 non-null      object\n",
      " 11  extraordinaryItems                 0 non-null      object\n",
      " 12  nonRecurring                       0 non-null      object\n",
      " 13  otherItems                         0 non-null      object\n",
      " 14  incomeTaxExpense                   4 non-null      object\n",
      " 15  totalRevenue                       4 non-null      object\n",
      " 16  totalOperatingExpenses             4 non-null      object\n",
      " 17  costOfRevenue                      4 non-null      object\n",
      " 18  totalOtherIncomeExpenseNet         4 non-null      object\n",
      " 19  discontinuedOperations             0 non-null      object\n",
      " 20  netIncomeFromContinuingOps         4 non-null      object\n",
      " 21  netIncomeApplicableToCommonShares  4 non-null      object\n",
      "dtypes: object(22)\n",
      "memory usage: 736.0+ bytes\n",
      "None\n"
     ]
    }
   ],
   "source": [
    "CF = si.get_cash_flow(company).transpose()\n",
    "BS = si.get_balance_sheet(company).transpose()\n",
    "IS = si.get_income_statement(company).transpose()\n",
    "print(CF.info())\n",
    "print(BS.info())\n",
    "print(IS.info())"
   ]
  },
  {
   "cell_type": "markdown",
   "metadata": {},
   "source": [
    "### Numbers related to profitability"
   ]
  },
  {
   "cell_type": "code",
   "execution_count": 5,
   "metadata": {},
   "outputs": [
    {
     "data": {
      "text/html": [
       "<div>\n",
       "<style scoped>\n",
       "    .dataframe tbody tr th:only-of-type {\n",
       "        vertical-align: middle;\n",
       "    }\n",
       "\n",
       "    .dataframe tbody tr th {\n",
       "        vertical-align: top;\n",
       "    }\n",
       "\n",
       "    .dataframe thead th {\n",
       "        text-align: right;\n",
       "    }\n",
       "</style>\n",
       "<table border=\"1\" class=\"dataframe\">\n",
       "  <thead>\n",
       "    <tr style=\"text-align: right;\">\n",
       "      <th></th>\n",
       "      <th>Gross_Profit_Margin</th>\n",
       "      <th>Net_Profit_Margin</th>\n",
       "      <th>Operating_Profit_Margin</th>\n",
       "      <th>Operating_ROA</th>\n",
       "      <th>ROA</th>\n",
       "      <th>ROE</th>\n",
       "    </tr>\n",
       "    <tr>\n",
       "      <th>endDate</th>\n",
       "      <th></th>\n",
       "      <th></th>\n",
       "      <th></th>\n",
       "      <th></th>\n",
       "      <th></th>\n",
       "      <th></th>\n",
       "    </tr>\n",
       "  </thead>\n",
       "  <tbody>\n",
       "    <tr>\n",
       "      <th>2020-12-31</th>\n",
       "      <td>0.535784</td>\n",
       "      <td>0.220619</td>\n",
       "      <td>0.225852</td>\n",
       "      <td>0.12898</td>\n",
       "      <td>0.125992</td>\n",
       "      <td>0.180948</td>\n",
       "    </tr>\n",
       "    <tr>\n",
       "      <th>2019-12-31</th>\n",
       "      <td>0.555805</td>\n",
       "      <td>0.212181</td>\n",
       "      <td>0.225396</td>\n",
       "      <td>0.132225</td>\n",
       "      <td>0.124472</td>\n",
       "      <td>0.170486</td>\n",
       "    </tr>\n",
       "    <tr>\n",
       "      <th>2018-12-31</th>\n",
       "      <td>0.564761</td>\n",
       "      <td>0.224647</td>\n",
       "      <td>0.238234</td>\n",
       "      <td>0.140018</td>\n",
       "      <td>0.132032</td>\n",
       "      <td>0.173036</td>\n",
       "    </tr>\n",
       "    <tr>\n",
       "      <th>2017-12-31</th>\n",
       "      <td>0.588805</td>\n",
       "      <td>0.114221</td>\n",
       "      <td>0.260827</td>\n",
       "      <td>0.146552</td>\n",
       "      <td>0.064178</td>\n",
       "      <td>0.083028</td>\n",
       "    </tr>\n",
       "  </tbody>\n",
       "</table>\n",
       "</div>"
      ],
      "text/plain": [
       "           Gross_Profit_Margin Net_Profit_Margin Operating_Profit_Margin  \\\n",
       "endDate                                                                    \n",
       "2020-12-31            0.535784          0.220619                0.225852   \n",
       "2019-12-31            0.555805          0.212181                0.225396   \n",
       "2018-12-31            0.564761          0.224647                0.238234   \n",
       "2017-12-31            0.588805          0.114221                0.260827   \n",
       "\n",
       "           Operating_ROA       ROA       ROE  \n",
       "endDate                                       \n",
       "2020-12-31       0.12898  0.125992  0.180948  \n",
       "2019-12-31      0.132225  0.124472  0.170486  \n",
       "2018-12-31      0.140018  0.132032  0.173036  \n",
       "2017-12-31      0.146552  0.064178  0.083028  "
      ]
     },
     "execution_count": 5,
     "metadata": {},
     "output_type": "execute_result"
    }
   ],
   "source": [
    "Profitability = pd.DataFrame()\n",
    "Profitability[\"Gross_Profit_Margin\"] = (IS[\"grossProfit\"]/IS[\"totalRevenue\"])\n",
    "Profitability[\"Net_Profit_Margin\"] = (IS[\"netIncome\"]/IS[\"totalRevenue\"])\n",
    "Profitability[\"Operating_Profit_Margin\"] = (IS[\"operatingIncome\"]/IS[\"totalRevenue\"])\n",
    "Profitability[\"Operating_ROA\"] = (IS[\"operatingIncome\"]/BS[\"totalAssets\"])\n",
    "Profitability[\"ROA\"] = (IS[\"netIncome\"]/BS[\"totalAssets\"])\n",
    "Profitability[\"ROE\"] = (IS[\"netIncome\"]/BS[\"totalStockholderEquity\"])\n",
    "\n",
    "Profitability"
   ]
  },
  {
   "cell_type": "markdown",
   "metadata": {},
   "source": [
    "## Dupont analysis of the company\n",
    "### ROE = NetIncome / Equity = Net_Profit_Margin x Asset Turnover x Leverage"
   ]
  },
  {
   "cell_type": "code",
   "execution_count": 6,
   "metadata": {},
   "outputs": [
    {
     "data": {
      "text/html": [
       "<div>\n",
       "<style scoped>\n",
       "    .dataframe tbody tr th:only-of-type {\n",
       "        vertical-align: middle;\n",
       "    }\n",
       "\n",
       "    .dataframe tbody tr th {\n",
       "        vertical-align: top;\n",
       "    }\n",
       "\n",
       "    .dataframe thead th {\n",
       "        text-align: right;\n",
       "    }\n",
       "</style>\n",
       "<table border=\"1\" class=\"dataframe\">\n",
       "  <thead>\n",
       "    <tr style=\"text-align: right;\">\n",
       "      <th></th>\n",
       "      <th>ROE</th>\n",
       "      <th>Net_Profit_Margin</th>\n",
       "      <th>Total Asset Turnover</th>\n",
       "      <th>Leverage</th>\n",
       "      <th>date</th>\n",
       "      <th>ROE_Test</th>\n",
       "    </tr>\n",
       "    <tr>\n",
       "      <th>endDate</th>\n",
       "      <th></th>\n",
       "      <th></th>\n",
       "      <th></th>\n",
       "      <th></th>\n",
       "      <th></th>\n",
       "      <th></th>\n",
       "    </tr>\n",
       "  </thead>\n",
       "  <tbody>\n",
       "    <tr>\n",
       "      <th>2020-12-31</th>\n",
       "      <td>0.180948</td>\n",
       "      <td>0.220619</td>\n",
       "      <td>0.571082</td>\n",
       "      <td>1.436192</td>\n",
       "      <td>2020-12-31</td>\n",
       "      <td>0.180948</td>\n",
       "    </tr>\n",
       "    <tr>\n",
       "      <th>2019-12-31</th>\n",
       "      <td>0.170486</td>\n",
       "      <td>0.212181</td>\n",
       "      <td>0.586632</td>\n",
       "      <td>1.369670</td>\n",
       "      <td>2019-12-31</td>\n",
       "      <td>0.170486</td>\n",
       "    </tr>\n",
       "    <tr>\n",
       "      <th>2018-12-31</th>\n",
       "      <td>0.173036</td>\n",
       "      <td>0.224647</td>\n",
       "      <td>0.587731</td>\n",
       "      <td>1.310559</td>\n",
       "      <td>2018-12-31</td>\n",
       "      <td>0.173036</td>\n",
       "    </tr>\n",
       "    <tr>\n",
       "      <th>2017-12-31</th>\n",
       "      <td>0.083028</td>\n",
       "      <td>0.114221</td>\n",
       "      <td>0.561874</td>\n",
       "      <td>1.293721</td>\n",
       "      <td>2017-12-31</td>\n",
       "      <td>0.083028</td>\n",
       "    </tr>\n",
       "  </tbody>\n",
       "</table>\n",
       "</div>"
      ],
      "text/plain": [
       "                 ROE Net_Profit_Margin Total Asset Turnover  Leverage  \\\n",
       "endDate                                                                 \n",
       "2020-12-31  0.180948          0.220619             0.571082  1.436192   \n",
       "2019-12-31  0.170486          0.212181             0.586632  1.369670   \n",
       "2018-12-31  0.173036          0.224647             0.587731  1.310559   \n",
       "2017-12-31  0.083028          0.114221             0.561874  1.293721   \n",
       "\n",
       "                 date  ROE_Test  \n",
       "endDate                          \n",
       "2020-12-31 2020-12-31  0.180948  \n",
       "2019-12-31 2019-12-31  0.170486  \n",
       "2018-12-31 2018-12-31  0.173036  \n",
       "2017-12-31 2017-12-31  0.083028  "
      ]
     },
     "execution_count": 6,
     "metadata": {},
     "output_type": "execute_result"
    }
   ],
   "source": [
    "Dupont = pd.DataFrame()\n",
    "Dupont[\"ROE\"] = (IS[\"netIncome\"]/BS[\"totalStockholderEquity\"])\n",
    "Dupont[\"Net_Profit_Margin\"] = (IS[\"netIncome\"]/IS[\"totalRevenue\"])\n",
    "Dupont[\"Total Asset Turnover\"] = (IS[\"totalRevenue\"]/BS[\"totalAssets\"])\n",
    "Dupont[\"Leverage\"] = (BS[\"totalAssets\"]/BS[\"totalStockholderEquity\"])\n",
    "Dupont['date'] = pd.date_range(start='12/31/2017', periods=len(Dupont), freq='Y')[::-1]\n",
    "Dupont['ROE_Test'] = Dupont['Total Asset Turnover'] * Dupont['Net_Profit_Margin'] * Dupont['Leverage']\n",
    "Dupont"
   ]
  },
  {
   "cell_type": "code",
   "execution_count": 7,
   "metadata": {},
   "outputs": [
    {
     "data": {
      "image/png": "[encoded data removed]",
      "text/plain": [
       "<Figure size 432x288 with 1 Axes>"
      ]
     },
     "metadata": {
      "needs_background": "light"
     },
     "output_type": "display_data"
    }
   ],
   "source": [
    "plt.plot(Dupont['date'], Dupont['ROE'], label='ROE', color= \"midnightblue\")\n",
    "plt.xticks(rotation=90)\n",
    "\n",
    "plt.xlabel(\"DATE\", fontsize = \"12\")\n",
    "plt.ylabel(\"ROE\")\n",
    "plt.title(f\"Time Series of {company}'s ROE\", fontsize = \"16\")\n",
    "plt.show()"
   ]
  },
  {
   "cell_type": "code",
   "execution_count": 8,
   "metadata": {},
   "outputs": [
    {
     "data": {
      "image/png": "[encoded data removed]",
      "text/plain": [
       "<Figure size 432x288 with 1 Axes>"
      ]
     },
     "metadata": {
      "needs_background": "light"
     },
     "output_type": "display_data"
    }
   ],
   "source": [
    "plt.plot(Dupont['date'], Dupont['Net_Profit_Margin'], label='Net_Profit_Margin', color= \"midnightblue\")\n",
    "plt.xticks(rotation=90)\n",
    "\n",
    "plt.xlabel(\"DATE\", fontsize = \"12\")\n",
    "plt.ylabel(\"Net_Profit_Margin\")\n",
    "plt.title(f\"Time Series of {company}'s Net_Profit_Margin\", fontsize = \"16\")\n",
    "plt.show()"
   ]
  },
  {
   "cell_type": "code",
   "execution_count": 9,
   "metadata": {},
   "outputs": [
    {
     "data": {
      "image/png": "[encoded data removed]",
      "text/plain": [
       "<Figure size 432x288 with 1 Axes>"
      ]
     },
     "metadata": {
      "needs_background": "light"
     },
     "output_type": "display_data"
    }
   ],
   "source": [
    "plt.plot(Dupont['date'], Dupont['Total Asset Turnover'], label='Total Asset Turnover', color= \"midnightblue\")\n",
    "plt.xticks(rotation=90)\n",
    "\n",
    "plt.xlabel(\"DATE\", fontsize = \"12\")\n",
    "plt.ylabel(\"Total Asset Turnover\")\n",
    "plt.title(f\"Time Series of {company}'s Total Asset Turnover\", fontsize = \"16\")\n",
    "plt.show()"
   ]
  },
  {
   "cell_type": "code",
   "execution_count": 10,
   "metadata": {},
   "outputs": [
    {
     "data": {
      "image/png": "[encoded data removed]",
      "text/plain": [
       "<Figure size 432x288 with 1 Axes>"
      ]
     },
     "metadata": {
      "needs_background": "light"
     },
     "output_type": "display_data"
    }
   ],
   "source": [
    "plt.plot(Dupont['date'], Dupont['Leverage'], label='Leverage', color= \"midnightblue\")\n",
    "plt.xticks(rotation=90)\n",
    "\n",
    "plt.xlabel(\"DATE\", fontsize = \"12\")\n",
    "plt.ylabel(\"Leverage\")\n",
    "plt.title(f\"Time Series of {company}'s Leverage\", fontsize = \"16\")\n",
    "plt.show()"
   ]
  },
  {
   "cell_type": "code",
   "execution_count": null,
   "metadata": {},
   "outputs": [],
   "source": []
  }
 ],
 "metadata": {
  "kernelspec": {
   "display_name": "Python 3",
   "language": "python",
   "name": "python3"
  },
  "language_info": {
   "codemirror_mode": {
    "name": "ipython",
    "version": 3
   },
   "file_extension": ".py",
   "mimetype": "text/x-python",
   "name": "python",
   "nbconvert_exporter": "python",
   "pygments_lexer": "ipython3",
   "version": "3.8.10"
  },
  "metadata": {
   "interpreter": {
    "hash": "3020e733e56cc7092b9dc412ef3113030da0911fcd32d40010e726ab66618ab4"
   }
  }
 },
 "nbformat": 4,
 "nbformat_minor": 4
}
